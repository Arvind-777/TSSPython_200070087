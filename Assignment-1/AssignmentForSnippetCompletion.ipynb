{
 "cells": [
  {
   "cell_type": "markdown",
   "metadata": {
    "id": "mwY8-ebWnn8k"
   },
   "source": [
    "# Assignment: Complete the Snippet\n"
   ]
  },
  {
   "cell_type": "markdown",
   "metadata": {
    "id": "98h1wLbDnn8n"
   },
   "source": [
    "Shubh started building a basic Python Script which goes through the entire text of a particular book and mugs up all its words. After that it asks you for a word, goes over the times when this word came in the text and gives you the complete sentence in which it was used. You may choose to ask for as many such sentences as the number of occurences of the word.\n",
    "\n",
    "He's managed to come up with the part where he loads the file into Memory. He also managed to come up with snippets of code which could potentially do something if completed, but he has many deadlines to look after and not enough caffeine to turn to code. Can you help him?"
   ]
  },
  {
   "cell_type": "code",
   "execution_count": 1,
   "metadata": {
    "id": "W2FPoG_Lnn8n"
   },
   "outputs": [],
   "source": [
    "File = open(\"HarryPotterAndTheSorcerersStone.txt\",'r', encoding='UTF=8')     #This helps in opening the file which is to be read"
   ]
  },
  {
   "cell_type": "markdown",
   "metadata": {
    "id": "6n2G1L6qnn8o"
   },
   "source": [
    "Next he makes a list of all the words present in the novel mapping them to their index(position) in the list of words (i.e. ListOfWords). This is done by mapping every word (a string) to a list (list of indices), and this is stored as a Dictionary (DictionaryoOfWords)\n",
    "\n",
    "\n",
    "\n",
    "He makes use of the readlines() method which is used to extract all the lines from any text and the split() function which could be used to split any sentence into distinct words. The replace() method is used on strings to replace certain segments of the string with something else."
   ]
  },
  {
   "cell_type": "code",
   "execution_count": 2,
   "metadata": {
    "id": "wuz-iSaonn8o"
   },
   "outputs": [],
   "source": [
    "DictionaryOfWords = {}         #Dictionary mapping every word to a list (of indices of the words' occurences)\n",
    "Novel = []                     #List of all words in the order, in which they appear!\n",
    "\n",
    "\n",
    "\n",
    "i = 0                   #Counter Variable to keep track of index of words\n",
    "\n",
    "for line in File.readlines():     #Iterate over all lines present in the text\n",
    "    \n",
    "    #Look at Python's Conciseness!\n",
    "    \n",
    "    line = line.replace(\".\",\"\").replace(\",\",\"\").replace('?','').replace('!','').replace('[','').replace(']','')\\\n",
    "    .replace('(','').replace(')','').replace('%','').replace('/','')\n",
    "    \n",
    "    #COMPLETE THE CODE FROM HERE:\n",
    "    line = line.strip()\n",
    "    #This would split the line into many different words, and iterate over these words\n",
    "    \n",
    "    for word in line.split(' '): \n",
    "                                                                             \n",
    "        if word in DictionaryOfWords.keys():     #If the word is already present in the dictionary\n",
    "                                                                             \n",
    "            DictionaryOfWords[word].append(i)        #Add the index into the pre-existing list for this word\n",
    "                                                                             \n",
    "        else:\n",
    "            DictionaryOfWords[word]=[i]        #Create a new list of indices for this word, with a single element\n",
    "                                                                             \n",
    "        \n",
    "        Novel.append(word)        #Add the Word in the Novel's ordered list of words\n",
    "                                                                             \n",
    "        i+=1\n",
    "    "
   ]
  },
  {
   "cell_type": "markdown",
   "metadata": {
    "id": "7Q0xPLDynn8o"
   },
   "source": [
    "That guy truly left a lot of work for you!\n",
    "\n",
    "Now that you've done that, We have the words in the novel alongwith where they appeared in the text loaded into memory (Thanks to You!).\n",
    "\n",
    "The Next Step would be to answer any queries the user may have.\n",
    "\n",
    "To do this, we define the function GetQuery() which returns the word as well as the number of results the user wants to see (as a tuple):\n",
    "\n"
   ]
  },
  {
   "cell_type": "code",
   "execution_count": 3,
   "metadata": {
    "id": "rZdPHcyZnn8p"
   },
   "outputs": [],
   "source": [
    "#COMPLETE THE CODE FROM HERE:\n",
    "\n",
    "def GetQuery():\n",
    "   \n",
    "    word = input(\"Please enter the word of interest: \")        #Get Input from the user regarding what word s/he wants to query for\n",
    "\n",
    "    Number = input(\"Please enter the number of results desired: \")      #Get Input from the user regarding how many results the user wants to see\n",
    "\n",
    "    return (word,int(Number))                 #Return as output a tuple of the word and the Number of results       "
   ]
  },
  {
   "cell_type": "markdown",
   "metadata": {
    "id": "f0ExNn2Hnn8p"
   },
   "source": [
    "Now, We need a function which takes as input the index of any particular word and prints the words surrounding it as if they were in an actual sentence. \n",
    "\n",
    "This is done by iterating over the words surrounding it, and printing them with gaps in between. We also assume that this occurence isn't a boundary case and thus, the 10 words surronding it actually exist."
   ]
  },
  {
   "cell_type": "code",
   "execution_count": 4,
   "metadata": {
    "id": "NFjuNsIjnn8q"
   },
   "outputs": [],
   "source": [
    "def PrintContext(index):\n",
    "    \n",
    "    global Novel                          #Declares the list Novel as a Global Variable\n",
    "    \n",
    "    #COMPLETE THE CODE FROM HERE:\n",
    "    \n",
    "    for i in range( index-5,index+6 ) :           #Define the range so that the task above is fulfilled\n",
    "        \n",
    "        print(Novel[i], end = ' ')          #Print the word (using List Indexing) with a space after that\n",
    "        \n",
    "    print('\\n')"
   ]
  },
  {
   "cell_type": "markdown",
   "metadata": {
    "id": "WaT0_Nsxnn8q"
   },
   "source": [
    "The result of the GetQuery() function will be passed into a second function which would take as input the word and the number of results to be displayed and do so!"
   ]
  },
  {
   "cell_type": "code",
   "execution_count": 5,
   "metadata": {
    "id": "lJe_w2C0nn8r"
   },
   "outputs": [],
   "source": [
    "def PrintResult(word, NumQuery):\n",
    "  \n",
    "    global DictionaryOfWords                #Allows us to use the Dictionary as a global variable\n",
    "    \n",
    "    #COMPLETE THE CODE FROM HERE:\n",
    "    \n",
    "    if word in DictionaryOfWords.keys():\n",
    "        L = DictionaryOfWords[word] \n",
    "    \n",
    "        for i in range(0,min(len(L),NumQuery)):\n",
    "\n",
    "            PrintContext(L[i])             #Actually print the words surrounding the ith occurence of the given word\n",
    "    else:\n",
    "        print(f\"There are no instances of '{word}' in the whole book. Please try another word.\")"
   ]
  },
  {
   "cell_type": "markdown",
   "metadata": {
    "id": "JRNRUKLTnn8s"
   },
   "source": [
    "Finally, you need an infinite loop which runs until the user wants it to and asks for the next word (if the user wants to query more) or end the loop."
   ]
  },
  {
   "cell_type": "code",
   "execution_count": null,
   "metadata": {
    "id": "b5LvL0TQnn8s"
   },
   "outputs": [
    {
     "name": "stdout",
     "output_type": "stream",
     "text": [
      "Press Y in order to Continue with the next query or N to end.Please press Enter after entering your choice! : Y\n",
      "Please enter the word of interest: Harry\n",
      "Please enter the number of results desired: 10\n",
      " “— yes their son Harry —”  Mr Dursley stopped \n",
      "\n",
      "who had a son called Harry Come to think of it \n",
      "\n",
      "sure his nephew was called Harry He’d never even seen the \n",
      "\n",
      "to kill the Potters’ son Harry But — he couldn’t He \n",
      "\n",
      "that when he couldn’t kill Harry Potter Yoldemort’s power somehow broke \n",
      "\n",
      "the name of heaven did Harry survive”  “We can only \n",
      "\n",
      " “I’ve come to bring Harry to his aunt and uncle \n",
      "\n",
      "the street screaming for sweets Harry Potter come and live here” \n",
      "\n",
      "if today was known as Harry Potter Day in the future \n",
      "\n",
      "will be books written about Harry — every child in our \n",
      "\n"
     ]
    }
   ],
   "source": [
    "while 1>0 :   \n",
    "    \n",
    "    Choice = input('Press Y in order to Continue with the next query or N to end.Please press Enter after entering your choice! : ')\n",
    "    \n",
    "    #COMPLETE THE CODE FROM HERE:\n",
    "    \n",
    "    if Choice== 'Y' :                     # If the user wants to query \n",
    "        \n",
    "        word,NumQuery = GetQuery()                        #Use some of the past defined function to do so\n",
    "        PrintResult(word,NumQuery)\n",
    "    \n",
    "    elif Choice== 'N' :\n",
    "        \n",
    "        break                                 #Else end the loop\n",
    "        \n",
    "    else:\n",
    "        print(\"Please enter either 'Y' or 'N' and not anything else\")"
   ]
  }
 ],
 "metadata": {
  "colab": {
   "name": "Copy of AssignmentForSnippetCompletion.ipynb",
   "provenance": []
  },
  "kernelspec": {
   "display_name": "Python 3",
   "language": "python",
   "name": "python3"
  },
  "language_info": {
   "codemirror_mode": {
    "name": "ipython",
    "version": 3
   },
   "file_extension": ".py",
   "mimetype": "text/x-python",
   "name": "python",
   "nbconvert_exporter": "python",
   "pygments_lexer": "ipython3",
   "version": "3.8.5"
  }
 },
 "nbformat": 4,
 "nbformat_minor": 5
}
